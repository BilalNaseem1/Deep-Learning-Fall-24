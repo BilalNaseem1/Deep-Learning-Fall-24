{
 "cells": [
  {
   "cell_type": "markdown",
   "metadata": {},
   "source": [
    "# Recitation 1: OOP Fundamentals"
   ]
  },
  {
   "cell_type": "markdown",
   "metadata": {},
   "source": [
    "### What are Objects\n",
    "- An object is an instance of a class with its attributes or properties defined. Objects hold actual data and the behaviour of the object is defined by classes.\n",
    "- It also helps in modelling and manipulation of data in a structured manner.\n",
    "- Objects contain data (attributes) and actions (methods)\n",
    "\n",
    "### Definition of a Class\n",
    "- A class is a collection of instance variables and methods (functions which are inside classes).\n",
    "- Both of which together define the nature / characterstics of an object type.\n",
    "- Classes dont hold individual data, they only define how the data should be structured for objects and there is only 1 copy of a class even if there are many objects created from it.\n",
    "- Once a class is made, there can be multiple objects created using that class.\n",
    "#### Alternate definition\n",
    "Classes are the blueprints or templates from which objects are instantiated."
   ]
  },
  {
   "cell_type": "markdown",
   "metadata": {},
   "source": [
    "### Object Oriented Programming\n",
    "It is the practice of building the code / program around objects, which in turn serve as the building blocks to manage and organize our code. OOP makes the code modular as it makes the code maintainable and understandable.Some languages such as Java force you to be Object Oriented while writing code, where as python is a bit flexible i.e. you can choose to write the code in procedural, functional or in object oriented style. The Deep Learning Framework **PyTorch** requires the code to be written in oop style."
   ]
  },
  {
   "cell_type": "markdown",
   "metadata": {},
   "source": [
    "#### Notes:\n",
    "- **Pre-requisites for this tuorial:** Knowledge of Python - you can look up this free course to get the basics straight [mooc.fi Intro and Advance Python Programming](https://programming-24.mooc.fi/). This course is very good and would highly recommend it.\n",
    "- This notebook only scratches the surface of oop in Python. I would recommend you all to do this course in the future - [Python Deep Dive part 4](https://www.udemy.com/course/python-3-deep-dive-part-4/)\n",
    "- opera vpn (Asia) - [https://downloadlynet.ir/](https://downloadlynet.ir/) - get any udemy course from here for free"
   ]
  },
  {
   "cell_type": "markdown",
   "metadata": {},
   "source": [
    "## Contents:\n",
    "1. Creating a class\n",
    "2. Inserting attributes in a class\n",
    "3. Accessing attributes\n",
    "4. Creating methods\n",
    "5. Calling methods from a class\n",
    "6. Encapsulation\n",
    "    - getter and setter methods\n",
    "7. Abstraction\n",
    "8. Inheritance\n",
    "9. Polymorphism\n",
    "10. OOP in Deep Learning"
   ]
  },
  {
   "cell_type": "markdown",
   "metadata": {},
   "source": [
    "- The notebook is self explanatory, but please use chatgpt where necessary"
   ]
  },
  {
   "cell_type": "code",
   "execution_count": 1,
   "metadata": {},
   "outputs": [],
   "source": [
    "# creating a class\n",
    "class Student:\n",
    "    pass\n",
    "\n",
    "# creating an object i.e. instance of a class\n",
    "\n",
    "s = Student()"
   ]
  },
  {
   "cell_type": "code",
   "execution_count": 2,
   "metadata": {},
   "outputs": [
    {
     "data": {
      "text/plain": [
       "<__main__.Student at 0x7abbe04395b0>"
      ]
     },
     "execution_count": 2,
     "metadata": {},
     "output_type": "execute_result"
    }
   ],
   "source": [
    "s"
   ]
  },
  {
   "cell_type": "markdown",
   "metadata": {},
   "source": [
    "### Adding attributes to a class"
   ]
  },
  {
   "cell_type": "markdown",
   "metadata": {},
   "source": [
    "Attributes are the variables belonging to a particular class "
   ]
  },
  {
   "cell_type": "code",
   "execution_count": 3,
   "metadata": {},
   "outputs": [],
   "source": [
    "class Student2:\n",
    "    def __init__(self, name, erp, gender):\n",
    "        self.name = name\n",
    "        self.erp = erp\n",
    "        self.gender = gender"
   ]
  },
  {
   "cell_type": "code",
   "execution_count": 6,
   "metadata": {},
   "outputs": [],
   "source": [
    "s2 = Student2('Bilal', 1234, 'male')"
   ]
  },
  {
   "cell_type": "code",
   "execution_count": 8,
   "metadata": {},
   "outputs": [
    {
     "name": "stdout",
     "output_type": "stream",
     "text": [
      "Bilal\n",
      "-----------\n",
      "1234\n",
      "-----------\n",
      "male\n"
     ]
    }
   ],
   "source": [
    "print(s2.name)\n",
    "print('-----------')\n",
    "print(s2.erp)\n",
    "print('-----------')\n",
    "print(s2.gender)"
   ]
  },
  {
   "cell_type": "markdown",
   "metadata": {},
   "source": [
    "- A class is always callable, hence when we instantiated the class we used `()`\n",
    "- The dunder `__init__` method (function) is executed when the object is created\n",
    "- The methods inside the object are bound the the instance variables i.e. they require the object to be passed in also, hence the self keyword."
   ]
  },
  {
   "cell_type": "code",
   "execution_count": 18,
   "metadata": {},
   "outputs": [],
   "source": [
    "class Student3:\n",
    "    def __init__(self, name, erp, gender):\n",
    "        self.name = name\n",
    "        self.erp = erp\n",
    "        self.gender = gender\n",
    "\n",
    "    def introduce(self):\n",
    "        print(f\"my name is {self.name} and my erp is {self.erp}\")"
   ]
  },
  {
   "cell_type": "code",
   "execution_count": 19,
   "metadata": {},
   "outputs": [
    {
     "name": "stdout",
     "output_type": "stream",
     "text": [
      "my name is Bilal and my erp is 1234\n"
     ]
    }
   ],
   "source": [
    "s3 = Student3('Bilal', 1234, 'male')\n",
    "\n",
    "s3.introduce()"
   ]
  },
  {
   "cell_type": "code",
   "execution_count": 1,
   "metadata": {},
   "outputs": [],
   "source": [
    "class Student4:\n",
    "    def __init__(self, name, erp, gender):\n",
    "        self.name = name\n",
    "        self.erp = erp\n",
    "        self.gender = gender\n",
    "\n",
    "    def introduce(self):\n",
    "        print(f\"my name is {self.name} and my erp is {self.erp}\")\n",
    "\n",
    "    def about_me(self):\n",
    "        print(\"I am taking the Deep learning course\")"
   ]
  },
  {
   "cell_type": "code",
   "execution_count": 2,
   "metadata": {},
   "outputs": [
    {
     "name": "stdout",
     "output_type": "stream",
     "text": [
      "my name is Bilal and my erp is 1234\n",
      "None\n",
      "-------------\n",
      "I am taking the Deep learning course\n",
      "None\n"
     ]
    }
   ],
   "source": [
    "s4 = Student4('Bilal', 1234, 'male')\n",
    "\n",
    "print(s4.introduce())\n",
    "print(\"-------------\")\n",
    "print(s4.about_me())"
   ]
  },
  {
   "cell_type": "markdown",
   "metadata": {},
   "source": [
    "## Encapsulation"
   ]
  },
  {
   "cell_type": "markdown",
   "metadata": {},
   "source": [
    "- It focuses on bundling data and methods, that operate on the data, into a single unit - often referred to as a class.\n",
    "- The major advantage of this concept is that it allows us to control the access of data and protect it from unauthorized manipulation.\n",
    "- It can also be thought of hiding the data from the rest of the code.\n",
    "- The variables can be made private using encapsulation - they cannot be accessed or modified outside of the class in which they are initialized.\n",
    "- We initialize such type of variables using `self.__var-name = var-name`"
   ]
  },
  {
   "cell_type": "code",
   "execution_count": 15,
   "metadata": {},
   "outputs": [],
   "source": [
    "class StudentX:\n",
    "    def __init__(self, name, major, id, score):\n",
    "        self.name = name\n",
    "        self.major = major\n",
    "        self.id = id\n",
    "        self.__score = score # we are making score a private variable\n",
    "\n",
    "    def get_info(self):\n",
    "        return f\"Name {self.name}, major: {self.major}. id: {self.id}, score: {self.__score}\"\n",
    "\n",
    "    def __repr__(self):\n",
    "        return f\"Name {self.name}, major: {self.major}. id: {self.id}, score: {self.score}\""
   ]
  },
  {
   "cell_type": "code",
   "execution_count": 16,
   "metadata": {},
   "outputs": [],
   "source": [
    "s1 = StudentX(\"Bilal\", \"DS\", 1234, 6.64)"
   ]
  },
  {
   "cell_type": "code",
   "execution_count": 17,
   "metadata": {},
   "outputs": [
    {
     "name": "stdout",
     "output_type": "stream",
     "text": [
      "Name Bilal, major: DS. id: 1234, score: 6.64\n"
     ]
    }
   ],
   "source": [
    "print(s1.get_info())"
   ]
  },
  {
   "cell_type": "code",
   "execution_count": 18,
   "metadata": {},
   "outputs": [
    {
     "name": "stdout",
     "output_type": "stream",
     "text": [
      "Bilal\n"
     ]
    }
   ],
   "source": [
    "print(s1.name)"
   ]
  },
  {
   "cell_type": "code",
   "execution_count": 19,
   "metadata": {},
   "outputs": [
    {
     "name": "stdout",
     "output_type": "stream",
     "text": [
      "DS\n"
     ]
    }
   ],
   "source": [
    "print(s1.major)"
   ]
  },
  {
   "cell_type": "code",
   "execution_count": 20,
   "metadata": {},
   "outputs": [
    {
     "name": "stdout",
     "output_type": "stream",
     "text": [
      "1234\n"
     ]
    }
   ],
   "source": [
    "print(s1.id)"
   ]
  },
  {
   "cell_type": "code",
   "execution_count": 21,
   "metadata": {},
   "outputs": [
    {
     "ename": "AttributeError",
     "evalue": "'StudentX' object has no attribute '__score'",
     "output_type": "error",
     "traceback": [
      "\u001b[0;31m---------------------------------------------------------------------------\u001b[0m",
      "\u001b[0;31mAttributeError\u001b[0m                            Traceback (most recent call last)",
      "Cell \u001b[0;32mIn[21], line 1\u001b[0m\n\u001b[0;32m----> 1\u001b[0m \u001b[38;5;28mprint\u001b[39m(\u001b[43ms1\u001b[49m\u001b[38;5;241;43m.\u001b[39;49m\u001b[43m__score\u001b[49m)\n",
      "\u001b[0;31mAttributeError\u001b[0m: 'StudentX' object has no attribute '__score'"
     ]
    }
   ],
   "source": [
    "print(s1.__score)"
   ]
  },
  {
   "cell_type": "code",
   "execution_count": 22,
   "metadata": {},
   "outputs": [
    {
     "ename": "AttributeError",
     "evalue": "'StudentX' object has no attribute 'score'",
     "output_type": "error",
     "traceback": [
      "\u001b[0;31m---------------------------------------------------------------------------\u001b[0m",
      "\u001b[0;31mAttributeError\u001b[0m                            Traceback (most recent call last)",
      "Cell \u001b[0;32mIn[22], line 1\u001b[0m\n\u001b[0;32m----> 1\u001b[0m \u001b[38;5;28mprint\u001b[39m(\u001b[43ms1\u001b[49m\u001b[38;5;241;43m.\u001b[39;49m\u001b[43mscore\u001b[49m)\n",
      "\u001b[0;31mAttributeError\u001b[0m: 'StudentX' object has no attribute 'score'"
     ]
    }
   ],
   "source": [
    "print(s1.score)"
   ]
  },
  {
   "cell_type": "markdown",
   "metadata": {},
   "source": [
    "- As you can see we cannot access the private variable - it cannot be accessed outside of the class\n",
    "- To get around this we can use `setter` and `getter` methods to access these private variables.\n",
    "- We use these to access or manipulate these private variables."
   ]
  },
  {
   "cell_type": "code",
   "execution_count": 27,
   "metadata": {},
   "outputs": [],
   "source": [
    "class StudentX:\n",
    "    def __init__(self, name, major, id, score):\n",
    "        self.name = name\n",
    "        self.major = major\n",
    "        self.id = id\n",
    "        self.__score = score # we are making score a private variable\n",
    "\n",
    "    def get_info(self):\n",
    "        return f\"Name {self.name}, major: {self.major}. id: {self.id}, score: {self.__score}\"\n",
    "\n",
    "    # setter method\n",
    "    def set_score(self, score):\n",
    "        self.__score = score\n",
    "\n",
    "    # getter method\n",
    "    def getScore(self):\n",
    "        FinalScore = self.__score * 10\n",
    "        return FinalScore\n",
    "\n",
    "    def __repr__(self):\n",
    "        return f\"Name {self.name}, major: {self.major}. id: {self.id}, score: {self.score}\""
   ]
  },
  {
   "cell_type": "code",
   "execution_count": 28,
   "metadata": {},
   "outputs": [],
   "source": [
    "s2 = StudentX(\"Bilal\", \"DS\", 1234, 6.64)"
   ]
  },
  {
   "cell_type": "code",
   "execution_count": 29,
   "metadata": {},
   "outputs": [
    {
     "ename": "AttributeError",
     "evalue": "'StudentX' object has no attribute '__score'",
     "output_type": "error",
     "traceback": [
      "\u001b[0;31m---------------------------------------------------------------------------\u001b[0m",
      "\u001b[0;31mAttributeError\u001b[0m                            Traceback (most recent call last)",
      "Cell \u001b[0;32mIn[29], line 1\u001b[0m\n\u001b[0;32m----> 1\u001b[0m \u001b[38;5;28mprint\u001b[39m(\u001b[43ms1\u001b[49m\u001b[38;5;241;43m.\u001b[39;49m\u001b[43m__score\u001b[49m)\n",
      "\u001b[0;31mAttributeError\u001b[0m: 'StudentX' object has no attribute '__score'"
     ]
    }
   ],
   "source": [
    "print(s1.__score)"
   ]
  },
  {
   "cell_type": "code",
   "execution_count": 30,
   "metadata": {},
   "outputs": [
    {
     "data": {
      "text/plain": [
       "66.39999999999999"
      ]
     },
     "execution_count": 30,
     "metadata": {},
     "output_type": "execute_result"
    }
   ],
   "source": [
    "s2.getScore()"
   ]
  },
  {
   "cell_type": "markdown",
   "metadata": {},
   "source": [
    "- We accessed the score indirectly using the getScore method - getter method"
   ]
  },
  {
   "cell_type": "markdown",
   "metadata": {},
   "source": [
    "## Abstraction"
   ]
  },
  {
   "cell_type": "markdown",
   "metadata": {},
   "source": [
    "Abstraction is about simplifying complex systems by modelling classes based on the essential properties and behaviours relevant to the program while hiding unnecessary details."
   ]
  },
  {
   "cell_type": "code",
   "execution_count": 31,
   "metadata": {},
   "outputs": [
    {
     "name": "stdout",
     "output_type": "stream",
     "text": [
      "Name: Alice, Major: Computer Science, Andrew ID: xyz\n",
      "GPA: 89.0\n"
     ]
    }
   ],
   "source": [
    "class IBAStudent:\n",
    "    def __init__(self, name, major, id):\n",
    "        self.name = name\n",
    "        self.major = major\n",
    "        self.id = id\n",
    "        self.__grades = []  # Private variable to store grades\n",
    "\n",
    "    def add_grade(self, grade):\n",
    "        self.__grades.append(grade)\n",
    "\n",
    "    def calculate_gpa(self):\n",
    "        if not self.__grades:\n",
    "            return \"GPA: N/A\"\n",
    "        average_grade = sum(self.__grades) / len(self.__grades)\n",
    "        return f\"GPA: {average_grade}\"\n",
    "\n",
    "    def display_info(self):\n",
    "        print(f\"Name: {self.name}, Major: {self.major}, Andrew ID: {self.id}\")\n",
    "\n",
    "# Example usage\n",
    "student = IBAStudent(\"Alice\", \"Computer Science\", \"xyz\")\n",
    "\n",
    "# Abstraction in action\n",
    "student.add_grade(90)\n",
    "student.add_grade(85)\n",
    "student.add_grade(92)\n",
    "\n",
    "student.display_info()\n",
    "print(student.calculate_gpa())"
   ]
  },
  {
   "cell_type": "markdown",
   "metadata": {},
   "source": [
    "- The `__grades` list is a private variable, hiding the implementation details of grade storage from the user of the class.\n",
    "- Methods like `add_grade()`, `calculate_gpa()`, and `display_info()` abstract away the internal operations, providing a simple interface for interacting with the student object.\n",
    "- The user of the class doesn't need to know how grades are stored or how GPA is calculated; they can simply call the appropriate methods.\n",
    "- This abstraction allows users to work with student objects at a higher level, focusing on what the object does rather than how it does it, which is a key principle of object-oriented programming.\n",
    "- **Abstraction allows us to work with the IBAStudent object in a very simplified manner**"
   ]
  },
  {
   "cell_type": "markdown",
   "metadata": {},
   "source": [
    "## Inheritence"
   ]
  },
  {
   "cell_type": "code",
   "execution_count": 32,
   "metadata": {},
   "outputs": [
    {
     "name": "stdout",
     "output_type": "stream",
     "text": [
      "Name: Bob, Major: Electrical Engineering, Andrew ID: boblee\n",
      "Research Area: Signal Processing\n",
      "GPA: 91.5\n"
     ]
    }
   ],
   "source": [
    "class GraduateStudent(IBAStudent):\n",
    "    def __init__(self, name, major, id, research_area):\n",
    "        super().__init__(name, major, id)\n",
    "        self.research_area = research_area\n",
    "\n",
    "    def display_info(self):\n",
    "        super().display_info()\n",
    "        print(f\"Research Area: {self.research_area}\")\n",
    "\n",
    "# Example usage\n",
    "grad_student = GraduateStudent(\"Bob\", \"Electrical Engineering\", \"boblee\", \"Signal Processing\")\n",
    "\n",
    "# Inherited and extended functionality\n",
    "grad_student.add_grade(95)\n",
    "grad_student.add_grade(88)\n",
    "\n",
    "grad_student.display_info()\n",
    "print(grad_student.calculate_gpa())"
   ]
  },
  {
   "cell_type": "markdown",
   "metadata": {},
   "source": [
    "- Inheritance is implemented here through the use of Python's `super()` function, which allows the `GraduateStudent` class to inherit properties and methods from its parent class, `IBAStudent`.\n",
    "- But it also has additional attributes and methods.\n",
    "- class `GraduateStudent(IBAStudent)` defines that `GraduateStudent` is a subclass of `IBAStudent`, meaning it inherits the methods and attributes of `IBAStudent`.\n",
    "- The `__init__` method of `GraduateStudent` calls the parent class's `__init__` method using `super().__init__(name, major, id)` to initialize the name, major, and id attributes, which are presumably part of IBAStudent. Afterward, it initializes an additional attribute, research_area, which is specific to GraduateStudent.\n",
    "- The `display_info` method in GraduateStudent first calls the `display_info` method of the `parent class` using `super().display_info()` to display the basic information (like name, major, and id), and then it extends this functionality by also printing the research_area.\n",
    "- The GraduateStudent class extends the functionality of `IBAStudent` by adding new attributes (research_area) and methods, while still reusing the logic from the parent class.\n",
    "- We can also do methods we had itialized in the IBAStudent class such as `add_grade()` - GraduateStudent class is inheriting all attributes"
   ]
  },
  {
   "cell_type": "markdown",
   "metadata": {},
   "source": [
    "## Polymorphism"
   ]
  },
  {
   "cell_type": "markdown",
   "metadata": {},
   "source": [
    "Polymorphism is a concept in object-oriented programming where the same method can have different behaviors depending on the object that calls it."
   ]
  },
  {
   "cell_type": "code",
   "execution_count": 33,
   "metadata": {},
   "outputs": [
    {
     "name": "stdout",
     "output_type": "stream",
     "text": [
      "Studying Computer Science at IBA\n",
      "Studying Engineering at MIT\n"
     ]
    }
   ],
   "source": [
    "class Student:\n",
    "    def study(self):\n",
    "        pass\n",
    "\n",
    "class IBAStudent(Student):\n",
    "    def study(self):\n",
    "        return \"Studying Computer Science at IBA\"\n",
    "\n",
    "class MITStudent(Student):\n",
    "    def study(self):\n",
    "        return \"Studying Engineering at MIT\"\n",
    "\n",
    "# Polymorphic behavior\n",
    "students = [IBAStudent(), MITStudent()]\n",
    "for student in students:\n",
    "    print(student.study())"
   ]
  },
  {
   "cell_type": "markdown",
   "metadata": {},
   "source": [
    "- Polymorphism is implemented here by using a common method `study()` in the base class Student and overriding it in the derived classes IBAStudent and MITStudent.\n",
    "- The base class Student defines a method `study()`, but it does not implement any specific behavior (it uses pass as a placeholder).\n",
    "- Both IBAStudent and MITStudent are subclasses of Student, and they override the study() method to return a specific string. IBAStudent returns \"Studying Computer Science at IBA\", while MITStudent returns \"Studying Engineering at MIT\".\n",
    "- Polymorphism is demonstrated in the section of code labeled as \"Polymorphic behavior\":\n",
    "- A list called students contains objects of both IBAStudent and MITStudent.\n",
    "- The for loop iterates over the students list. Even though each object is of a different class (IBAStudent or MITStudent), they are both treated as instances of the Student class.\n",
    "- During each iteration, the `study()` method specific to the object’s class is called, and Python automatically selects the correct method to invoke at runtime, based on the object type.\n",
    "- This behavior—where different classes implement the same method, and the correct method is invoked based on the object type—is an example of polymorphism in object-oriented programming.\n",
    "- In python we cannot use the same name for different methods"
   ]
  },
  {
   "cell_type": "markdown",
   "metadata": {},
   "source": [
    "## OOP in deep learning"
   ]
  },
  {
   "cell_type": "markdown",
   "metadata": {},
   "source": [
    "When we use classes it makes our code very re-usable and clean"
   ]
  },
  {
   "cell_type": "markdown",
   "metadata": {},
   "source": [
    "### Simple Data loader"
   ]
  },
  {
   "cell_type": "markdown",
   "metadata": {},
   "source": [
    "In the context of deep learning, this code defines a simple data loader class. Data loaders are critical in deep learning workflows as they manage how data is fed into the model in smaller chunks (called batches) for efficient training."
   ]
  },
  {
   "cell_type": "code",
   "execution_count": 34,
   "metadata": {},
   "outputs": [
    {
     "name": "stdout",
     "output_type": "stream",
     "text": [
      "Full dataset: [1, 2, 3, 4, 5, 6, 7, 8, 9, 10, 11, 12, 13, 14, 15, 16, 17, 18, 19, 20]\n",
      "Batch 0 [1, 2, 3, 4, 5]\n",
      "Batch 1 [6, 7, 8, 9, 10]\n",
      "Batch 2 [11, 12, 13, 14, 15]\n",
      "Batch 3 [16, 17, 18, 19, 20]\n"
     ]
    }
   ],
   "source": [
    "# Simple dataloader\n",
    "class SimpleDataLoader:\n",
    "    def __init__(self, dataset, batch_size):\n",
    "        self.dataset = dataset\n",
    "        self.batch_size = batch_size\n",
    "\n",
    "    def get_batches(self):\n",
    "        for i in range(0, len(self.dataset), self.batch_size):\n",
    "            yield self.dataset[i:i + self.batch_size]\n",
    "\n",
    "# Example usage\n",
    "# Create a dummy dataset - a list of numbers in this case.\n",
    "dataset = [i for i in range(1, 21)]\n",
    "print('Full dataset:', dataset)\n",
    "\n",
    "# Instantiate the DataLoader with the dataset and a batch size\n",
    "loader = SimpleDataLoader(dataset, batch_size=5)\n",
    "\n",
    "# Iterate over the DataLoader to get and print each batch\n",
    "for i, batch in enumerate(loader.get_batches()):\n",
    "    print('Batch', i, batch)"
   ]
  },
  {
   "cell_type": "markdown",
   "metadata": {},
   "source": [
    "- **Modularity:** The SimpleDataLoader class abstracts away the logic for batching, which can be reused across different datasets in a deep learning pipeline. This is an essential feature in deep learning frameworks like PyTorch or TensorFlow.\n",
    "- **Encapsulation:** The dataset and batch_size are encapsulated within the class. The user doesn't need to manage the batching logic manually; they simply call the class's method to get batches.\n",
    "- **Reusability:** This DataLoader can be reused across different models and datasets by simply passing different data and batch sizes."
   ]
  },
  {
   "cell_type": "markdown",
   "metadata": {},
   "source": [
    "1. Class Definition: `SimpleDataLoader`:\n",
    "The class encapsulates two attributes: `dataset` (the data to be loaded) and `batch_size` (the number of samples to be fed into the model at a time).\n",
    "The `__init__` method initializes these attributes when an instance of the class is created, making the data loading process scalable and reusable.\n",
    "2. Method: `get_batches():`\n",
    "This method is responsible for splitting the dataset into batches. It uses Python’s `yield` keyword, which allows it to lazily return one batch at a time (instead of loading the entire dataset at once), optimizing memory usage when handling large datasets.\n",
    "It loops through the dataset in steps of `batch_size`, returning each slice of the dataset as a batch.\n",
    "3. Example Usage:\n",
    "A dummy dataset (a list of numbers) is created with values ranging from 1 to 20.\n",
    "The `SimpleDataLoader` is instantiated with this dataset and a `batch_size` of 5, meaning that the data will be split into chunks of 5 elements.\n",
    "The `get_batches()` method is called in a loop, printing each batch one at a time."
   ]
  },
  {
   "cell_type": "markdown",
   "metadata": {},
   "source": [
    "### Simple model"
   ]
  },
  {
   "cell_type": "markdown",
   "metadata": {},
   "source": [
    "We can use the same approach while building a model"
   ]
  },
  {
   "cell_type": "markdown",
   "metadata": {},
   "source": [
    "- A deep learning model essentially is taking data inputs, we perform transformations with the data and then output the transformed data"
   ]
  },
  {
   "cell_type": "code",
   "execution_count": 41,
   "metadata": {},
   "outputs": [
    {
     "name": "stdout",
     "output_type": "stream",
     "text": [
      "Output: 11\n"
     ]
    }
   ],
   "source": [
    "#Simple model - version 1\n",
    "class SimpleModel:\n",
    "    \n",
    "    def __init__(self):\n",
    "        # Define the transformations\n",
    "        self.transformation_1 = lambda x: x*2 # doubling the input \n",
    "        self.transformation_2 = lambda x: x+2 # adding 2 \n",
    "        self.transformation_3 = lambda x: x // 2 # halving the output\n",
    "    \n",
    "    def forward(self, initial_data):\n",
    "        # Call the transformations\n",
    "        transformed_data = self.transformation_1(initial_data)\n",
    "        transformed_data = self.transformation_2(transformed_data)\n",
    "        transformed_data = self.transformation_3(transformed_data)\n",
    "        \n",
    "        return transformed_data # Return the transformed data\n",
    "\n",
    "# Example usage\n",
    "# Initialize the model\n",
    "model = SimpleModel()\n",
    "\n",
    "# Call the model\n",
    "input_data= 10\n",
    "\n",
    "print(\"Output:\", model.forward(input_data))"
   ]
  },
  {
   "cell_type": "markdown",
   "metadata": {},
   "source": [
    "- we can reuse this for multiple models\n",
    "- or if we want to keep the structure and make small changes - it would be very easy"
   ]
  },
  {
   "cell_type": "code",
   "execution_count": null,
   "metadata": {},
   "outputs": [],
   "source": []
  }
 ],
 "metadata": {
  "kernelspec": {
   "display_name": "Python 3 (ipykernel)",
   "language": "python",
   "name": "python3"
  },
  "language_info": {
   "codemirror_mode": {
    "name": "ipython",
    "version": 3
   },
   "file_extension": ".py",
   "mimetype": "text/x-python",
   "name": "python",
   "nbconvert_exporter": "python",
   "pygments_lexer": "ipython3",
   "version": "3.12.3"
  }
 },
 "nbformat": 4,
 "nbformat_minor": 4
}
