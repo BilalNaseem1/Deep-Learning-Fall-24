{
 "cells": [
  {
   "cell_type": "markdown",
   "id": "b9fee749-95b7-46c1-afd3-80ba09b50dae",
   "metadata": {},
   "source": [
    "- Importing the numpy library\n",
    "- Creating vectors\n",
    "- Matrices\n",
    "- Tensors"
   ]
  },
  {
   "cell_type": "code",
   "execution_count": 1,
   "id": "3fdd0698-66e6-4aa1-bd9d-107883f58e97",
   "metadata": {},
   "outputs": [],
   "source": [
    "import numpy as np"
   ]
  },
  {
   "cell_type": "markdown",
   "id": "ca12b585-3681-4815-8a2a-4a87b04cbf66",
   "metadata": {},
   "source": [
    "- Performance: NumPy arrays are more efficient for numerical operations compared to Python lists because they are implemented in C and can handle large datasets more efficiently.\n",
    "- Functionality: NumPy arrays come with a vast array of functions and methods specifically designed for numerical operations, such as reshaping, mathematical operations, and more, which are not available with lists.\n",
    "- Consistency: NumPy arrays ensure consistency in data types and dimensions, making operations predictable and reliable."
   ]
  },
  {
   "cell_type": "markdown",
   "id": "ca55bf54-ac58-4d4f-b32a-db2876baf129",
   "metadata": {},
   "source": [
    "# Vectors"
   ]
  },
  {
   "attachments": {
    "51185e1e-9880-4883-9750-45db15409c61.png": {
     "image/png": "[encoded data removed]"
    },
    "ab8c64e2-18b2-4d25-bb5a-ce0c0c2f603c.png": {
     "image/png": "[encoded data removed]"
    }
   },
   "cell_type": "markdown",
   "id": "71e15d6b-002c-4c74-9d32-eae3686bc9f2",
   "metadata": {},
   "source": [
    "![image.png](attachment:51185e1e-9880-4883-9750-45db15409c61.png)![image.png](attachment:ab8c64e2-18b2-4d25-bb5a-ce0c0c2f603c.png)"
   ]
  },
  {
   "cell_type": "code",
   "execution_count": 2,
   "id": "31395963-0073-4aac-a8cb-00559d8a2258",
   "metadata": {},
   "outputs": [],
   "source": [
    "# creating a row vector in numpy\n",
    "\n",
    "x = np.array([2, 4, 1])"
   ]
  },
  {
   "cell_type": "code",
   "execution_count": 3,
   "id": "c49c1e8e-94af-43a8-b34e-ddb3006ee033",
   "metadata": {},
   "outputs": [
    {
     "data": {
      "text/plain": [
       "array([2, 4, 1])"
      ]
     },
     "execution_count": 3,
     "metadata": {},
     "output_type": "execute_result"
    }
   ],
   "source": [
    "x"
   ]
  },
  {
   "cell_type": "code",
   "execution_count": 10,
   "id": "544e8700-cee7-439b-9250-cbc5b8007ecd",
   "metadata": {},
   "outputs": [
    {
     "name": "stdout",
     "output_type": "stream",
     "text": [
      "(3,)\n"
     ]
    }
   ],
   "source": [
    "print(x.shape)"
   ]
  },
  {
   "cell_type": "markdown",
   "id": "051bcdfc-a9a4-4b39-9c64-36de2842d780",
   "metadata": {},
   "source": [
    "Here, x is a 1-dimensional array (a row vector) with shape (3,). It's a vector with three elements in a single dimension."
   ]
  },
  {
   "cell_type": "markdown",
   "id": "74e28982-0303-47a5-bda0-a172ded9f707",
   "metadata": {},
   "source": [
    "- what's something that has 0 dimension? ans: a number for e.g. 7"
   ]
  },
  {
   "cell_type": "code",
   "execution_count": 22,
   "id": "10a6020f-c36f-4f1a-860a-0d7274b6ce84",
   "metadata": {},
   "outputs": [
    {
     "name": "stdout",
     "output_type": "stream",
     "text": [
      "Scalar: 5\n",
      "Shape of Scalar: ()\n"
     ]
    }
   ],
   "source": [
    "scalar = np.array(5)\n",
    "print(\"Scalar:\", scalar)\n",
    "print(\"Shape of Scalar:\", scalar.shape)"
   ]
  },
  {
   "cell_type": "code",
   "execution_count": 4,
   "id": "2f72959a-8fe5-4d6c-a85c-cc4b2abf8b8f",
   "metadata": {},
   "outputs": [],
   "source": [
    "# converting row vector into column vector\n",
    "\n",
    "y = x.reshape(3, 1)"
   ]
  },
  {
   "cell_type": "code",
   "execution_count": 5,
   "id": "e6ca2790-930f-436e-acd1-74feedf2dbbc",
   "metadata": {},
   "outputs": [
    {
     "data": {
      "text/plain": [
       "array([[2],\n",
       "       [4],\n",
       "       [1]])"
      ]
     },
     "execution_count": 5,
     "metadata": {},
     "output_type": "execute_result"
    }
   ],
   "source": [
    "y"
   ]
  },
  {
   "cell_type": "code",
   "execution_count": 11,
   "id": "e85792b9-77d9-49e9-ade3-e1e1db83a0f1",
   "metadata": {},
   "outputs": [
    {
     "name": "stdout",
     "output_type": "stream",
     "text": [
      "(3, 1)\n"
     ]
    }
   ],
   "source": [
    "print(y.shape)"
   ]
  },
  {
   "cell_type": "markdown",
   "id": "cb356217-63d7-4497-a217-39051d6f41a2",
   "metadata": {},
   "source": [
    "- The reshape method changes the shape of x without changing its data. By reshaping it to (3, 1), y becomes a 2-dimensional array (a column vector) with three rows and one column.\n",
    "- x.shape will output (3,), indicating it's a 1-dimensional array with 3 elements.\n",
    "- y.shape will output (3, 1), indicating it's a 2-dimensional array with 3 rows and 1 column."
   ]
  },
  {
   "cell_type": "code",
   "execution_count": 7,
   "id": "f8792253-a9ca-47c2-a988-c47075048811",
   "metadata": {},
   "outputs": [
    {
     "ename": "ValueError",
     "evalue": "cannot reshape array of size 3 into shape (2,2)",
     "output_type": "error",
     "traceback": [
      "\u001b[0;31m---------------------------------------------------------------------------\u001b[0m",
      "\u001b[0;31mValueError\u001b[0m                                Traceback (most recent call last)",
      "Cell \u001b[0;32mIn[7], line 1\u001b[0m\n\u001b[0;32m----> 1\u001b[0m \u001b[43mx\u001b[49m\u001b[38;5;241;43m.\u001b[39;49m\u001b[43mreshape\u001b[49m\u001b[43m(\u001b[49m\u001b[38;5;241;43m2\u001b[39;49m\u001b[43m,\u001b[49m\u001b[43m \u001b[49m\u001b[38;5;241;43m2\u001b[39;49m\u001b[43m)\u001b[49m\n",
      "\u001b[0;31mValueError\u001b[0m: cannot reshape array of size 3 into shape (2,2)"
     ]
    }
   ],
   "source": [
    "x.reshape(2, 2)"
   ]
  },
  {
   "cell_type": "markdown",
   "id": "f8921c40-74a0-425c-96f9-4d5aebe83cde",
   "metadata": {},
   "source": [
    "This line is trying to reshape x into a 2x2 array, but it won't work because x has 3 elements, and a 2x2 array requires 4 elements. NumPy will raise a ValueError in this case if you try to execute this line. It seems you have it there for illustrative purposes."
   ]
  },
  {
   "cell_type": "markdown",
   "id": "2281167a-e041-4b5d-8b64-4028ae6dc931",
   "metadata": {},
   "source": [
    "However, in deep learning, and machine learning in general, the components of a vector are often unrelated to each other in any strict geometric sense. Rather, they’re used to represent features, qualities of some sample that the model will use to attempt to arrive at a useful output, like a class label, or a regression value. That said, the vector representing the collection of features, called the feature vector, is sometimes thought about geometrically. For example, some machine learning models, like k-nearest neighbors, interpret the vector as representing some coordinate in geometric space"
   ]
  },
  {
   "cell_type": "markdown",
   "id": "1e0fb81d-faea-4a75-b408-9d332fb53335",
   "metadata": {},
   "source": [
    "In this sense, the feature vector\n",
    "is a point, a location in this n-dimensional space where n is the number of\n",
    "features in the feature vector."
   ]
  },
  {
   "cell_type": "code",
   "execution_count": 19,
   "id": "72b509ae-7c29-4651-a3b8-499bdbe72064",
   "metadata": {},
   "outputs": [
    {
     "data": {
      "text/plain": [
       "array([1, 2, 3, 4])"
      ]
     },
     "execution_count": 19,
     "metadata": {},
     "output_type": "execute_result"
    }
   ],
   "source": [
    "# creating a vector from 1 to 5\n",
    "\n",
    "np.arange(1, 5)"
   ]
  },
  {
   "cell_type": "code",
   "execution_count": 21,
   "id": "60517eba-e330-435d-8a96-0814417a02f2",
   "metadata": {},
   "outputs": [
    {
     "data": {
      "text/plain": [
       "array([[1],\n",
       "       [2],\n",
       "       [3],\n",
       "       [4]])"
      ]
     },
     "execution_count": 21,
     "metadata": {},
     "output_type": "execute_result"
    }
   ],
   "source": [
    "np.arange(1, 5).reshape(4, 1)"
   ]
  },
  {
   "cell_type": "markdown",
   "id": "70606067-9d75-48b5-adf9-00ee28255bc6",
   "metadata": {},
   "source": [
    "# Matrices"
   ]
  },
  {
   "attachments": {
    "47397075-1917-47dd-b261-8486f80fcb2a.png": {
     "image/png": "[encoded data removed]"
    }
   },
   "cell_type": "markdown",
   "id": "7de5bddb-d09f-4881-90df-ce050d0c6c6f",
   "metadata": {},
   "source": [
    "![image.png](attachment:47397075-1917-47dd-b261-8486f80fcb2a.png)"
   ]
  },
  {
   "cell_type": "markdown",
   "id": "4285133c-6dcb-444a-b68b-160019c5e2b6",
   "metadata": {},
   "source": [
    "- are deonted by capital letters\n",
    "- dimension (order) of a matrix row x columns"
   ]
  },
  {
   "cell_type": "code",
   "execution_count": 12,
   "id": "a3b4e427-d91a-489a-8b6a-8c0f41bb9ee8",
   "metadata": {},
   "outputs": [],
   "source": [
    "A = np.array([[1,2,3],[4,5,6],[7,8,9]])"
   ]
  },
  {
   "cell_type": "code",
   "execution_count": 13,
   "id": "b4fb3cdb-5d4a-4348-9b9a-e0cb2ae4ebfb",
   "metadata": {},
   "outputs": [
    {
     "data": {
      "text/plain": [
       "array([[1, 2, 3],\n",
       "       [4, 5, 6],\n",
       "       [7, 8, 9]])"
      ]
     },
     "execution_count": 13,
     "metadata": {},
     "output_type": "execute_result"
    }
   ],
   "source": [
    "A"
   ]
  },
  {
   "cell_type": "code",
   "execution_count": 14,
   "id": "2e0dbada-7e88-4beb-81db-3ef5c7267d55",
   "metadata": {},
   "outputs": [
    {
     "data": {
      "text/plain": [
       "(3, 3)"
      ]
     },
     "execution_count": 14,
     "metadata": {},
     "output_type": "execute_result"
    }
   ],
   "source": [
    "A.shape"
   ]
  },
  {
   "cell_type": "code",
   "execution_count": 15,
   "id": "fdf761e5-7260-4cbd-a1f7-f4573c22ec85",
   "metadata": {},
   "outputs": [
    {
     "ename": "ValueError",
     "evalue": "cannot reshape array of size 9 into shape (4,2)",
     "output_type": "error",
     "traceback": [
      "\u001b[0;31m---------------------------------------------------------------------------\u001b[0m",
      "\u001b[0;31mValueError\u001b[0m                                Traceback (most recent call last)",
      "Cell \u001b[0;32mIn[15], line 1\u001b[0m\n\u001b[0;32m----> 1\u001b[0m \u001b[43mA\u001b[49m\u001b[38;5;241;43m.\u001b[39;49m\u001b[43mreshape\u001b[49m\u001b[43m(\u001b[49m\u001b[38;5;241;43m4\u001b[39;49m\u001b[43m,\u001b[49m\u001b[43m \u001b[49m\u001b[38;5;241;43m2\u001b[39;49m\u001b[43m)\u001b[49m\n",
      "\u001b[0;31mValueError\u001b[0m: cannot reshape array of size 9 into shape (4,2)"
     ]
    }
   ],
   "source": [
    "A.reshape(4, 2)"
   ]
  },
  {
   "cell_type": "markdown",
   "id": "a44225c4-24b6-4dde-83d6-5e8310e1977c",
   "metadata": {},
   "source": [
    "you can reshape a NumPy matrix as long as the total number of elements remains the same. In your case, A is a 3x3 matrix, so it has 9 elements. You can reshape it into any shape that also has 9 elements."
   ]
  },
  {
   "cell_type": "code",
   "execution_count": 16,
   "id": "25af4ab9-3e37-430f-870f-99f30a85e8df",
   "metadata": {},
   "outputs": [
    {
     "data": {
      "text/plain": [
       "array([[1],\n",
       "       [2],\n",
       "       [3],\n",
       "       [4],\n",
       "       [5],\n",
       "       [6],\n",
       "       [7],\n",
       "       [8],\n",
       "       [9]])"
      ]
     },
     "execution_count": 16,
     "metadata": {},
     "output_type": "execute_result"
    }
   ],
   "source": [
    "A.reshape(9, 1)"
   ]
  },
  {
   "cell_type": "code",
   "execution_count": 17,
   "id": "40181a80-88cf-42ed-be07-f98d3ea6ab57",
   "metadata": {},
   "outputs": [
    {
     "data": {
      "text/plain": [
       "array([1, 2, 3, 4, 5, 6, 7, 8, 9])"
      ]
     },
     "execution_count": 17,
     "metadata": {},
     "output_type": "execute_result"
    }
   ],
   "source": [
    "A.reshape(9)"
   ]
  },
  {
   "cell_type": "code",
   "execution_count": 18,
   "id": "59b11d5b-35ce-4867-96ce-f413daf421a3",
   "metadata": {},
   "outputs": [
    {
     "data": {
      "text/plain": [
       "array([1, 2, 3, 4, 5, 6, 7, 8, 9])"
      ]
     },
     "execution_count": 18,
     "metadata": {},
     "output_type": "execute_result"
    }
   ],
   "source": [
    "A.reshape(-1)"
   ]
  },
  {
   "cell_type": "markdown",
   "id": "48d6016b-9f8d-4390-9408-b933e72f0e07",
   "metadata": {},
   "source": [
    "# Tensors"
   ]
  },
  {
   "cell_type": "markdown",
   "id": "c8fae6ac-e1c7-4b67-9ae0-5fba3c150b54",
   "metadata": {},
   "source": [
    "- A scalar has no dimensions, a vector has one, and a matrix has two\n",
    "- A mathematical object with more than two dimensions is colloquially referred to as a tensor.\n",
    "- Are represented using the letter T"
   ]
  },
  {
   "cell_type": "markdown",
   "id": "c5a7c8f5-c97d-48cf-8e3f-e2b988d92009",
   "metadata": {},
   "source": [
    "- **Order (Rank):** The order or rank of a tensor is simply the number of dimensions it has.\n",
    "    - For instance, a 3D tensor has a rank of 3, a matrix (2D tensor) has a rank of 2, and so on.\n",
    "- **Dimensions:** Refers to the extent or size of each axis of the tensor.\n",
    "  - For example, a 3D tensor might have dimensions of 4x3x2, meaning it has 4 matrices, each of size 3x2."
   ]
  },
  {
   "attachments": {
    "993d29e7-1741-48c9-9a7d-54f59107816e.png": {
     "image/png": "[encoded data removed]"
    }
   },
   "cell_type": "markdown",
   "id": "59c94260-ee1b-4cca-8b0f-be07fce986e9",
   "metadata": {},
   "source": [
    "![image.png](attachment:993d29e7-1741-48c9-9a7d-54f59107816e.png)"
   ]
  },
  {
   "cell_type": "markdown",
   "id": "58b05afa-947e-4ca6-8c31-2808370f530b",
   "metadata": {},
   "source": [
    "A tensor can be thought as a stack of matrices"
   ]
  },
  {
   "cell_type": "code",
   "execution_count": 23,
   "id": "7eabdc82-bfce-493a-97f7-013f5841c58a",
   "metadata": {},
   "outputs": [
    {
     "name": "stdout",
     "output_type": "stream",
     "text": [
      "3D Tensor:\n",
      " [[[ 1  2  3]\n",
      "  [ 4  5  6]]\n",
      "\n",
      " [[ 7  8  9]\n",
      "  [10 11 12]]\n",
      "\n",
      " [[13 14 15]\n",
      "  [16 17 18]]]\n",
      "Shape of 3D Tensor: (3, 2, 3)\n"
     ]
    }
   ],
   "source": [
    "tensor_3d = np.array([[[1, 2, 3], [4, 5, 6]], \n",
    "                      [[7, 8, 9], [10, 11, 12]], \n",
    "                      [[13, 14, 15], [16, 17, 18]]])\n",
    "print(\"3D Tensor:\\n\", tensor_3d)\n",
    "print(\"Shape of 3D Tensor:\", tensor_3d.shape)"
   ]
  },
  {
   "cell_type": "markdown",
   "id": "f10a5258-ddb1-42c4-ba6b-b9a2d3789eb7",
   "metadata": {},
   "source": [
    "so we have 3 - 3x2 matrices"
   ]
  },
  {
   "cell_type": "code",
   "execution_count": null,
   "id": "0e8166f0-ca8b-4771-b019-1284846a178c",
   "metadata": {},
   "outputs": [],
   "source": []
  }
 ],
 "metadata": {
  "kernelspec": {
   "display_name": "Python 3 (ipykernel)",
   "language": "python",
   "name": "python3"
  },
  "language_info": {
   "codemirror_mode": {
    "name": "ipython",
    "version": 3
   },
   "file_extension": ".py",
   "mimetype": "text/x-python",
   "name": "python",
   "nbconvert_exporter": "python",
   "pygments_lexer": "ipython3",
   "version": "3.12.3"
  }
 },
 "nbformat": 4,
 "nbformat_minor": 5
}
