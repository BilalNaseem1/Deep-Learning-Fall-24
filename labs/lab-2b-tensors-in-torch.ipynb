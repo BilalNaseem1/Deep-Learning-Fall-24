{
  "nbformat": 4,
  "nbformat_minor": 0,
  "metadata": {
    "colab": {
      "provenance": []
    },
    "kernelspec": {
      "name": "python3",
      "display_name": "Python 3"
    },
    "language_info": {
      "name": "python"
    }
  },
  "cells": [
    {
      "cell_type": "markdown",
      "source": [
        "[![Open In Colab](https://colab.research.google.com/assets/colab-badge.svg)](https://colab.research.google.com/github/your_github_repo_here/your_notebook.ipynb)\n"
      ],
      "metadata": {
        "id": "b5XdtBCqfSzO"
      }
    },
    {
      "cell_type": "markdown",
      "source": [
        "Open this notebook in google colab as it would would already have pytorch installed on it. To run it locally you will need to install torch first. Colab is easier."
      ],
      "metadata": {
        "id": "Oh80g5xsTVbf"
      }
    },
    {
      "cell_type": "code",
      "execution_count": 1,
      "metadata": {
        "id": "5xH3gDAWe-OR"
      },
      "outputs": [],
      "source": [
        "import numpy as np\n",
        "import torch"
      ]
    },
    {
      "cell_type": "code",
      "source": [
        "torch.__version__"
      ],
      "metadata": {
        "colab": {
          "base_uri": "https://localhost:8080/",
          "height": 35
        },
        "id": "E-FCM-Fsxohy",
        "outputId": "a11b5690-6c81-47ce-d916-377a9d81aa4d"
      },
      "execution_count": 2,
      "outputs": [
        {
          "output_type": "execute_result",
          "data": {
            "text/plain": [
              "'2.4.0+cu121'"
            ],
            "application/vnd.google.colaboratory.intrinsic+json": {
              "type": "string"
            }
          },
          "metadata": {},
          "execution_count": 2
        }
      ]
    },
    {
      "cell_type": "markdown",
      "source": [
        "Watch: [PyTorch in 60 seconds](https://www.youtube.com/watch?v=ORMx45xqWkA)"
      ],
      "metadata": {
        "id": "ZOJrz2l2ReJN"
      }
    },
    {
      "cell_type": "code",
      "source": [
        "torch.cuda.is_available() # used to check whether gpu is running or not"
      ],
      "metadata": {
        "colab": {
          "base_uri": "https://localhost:8080/"
        },
        "id": "68LL0Q1r41p-",
        "outputId": "b5a1b7ef-3c54-43aa-a4bb-fbb536e646da"
      },
      "execution_count": 3,
      "outputs": [
        {
          "output_type": "execute_result",
          "data": {
            "text/plain": [
              "False"
            ]
          },
          "metadata": {},
          "execution_count": 3
        }
      ]
    },
    {
      "cell_type": "markdown",
      "source": [
        "- In this notebook we will learn how to create and work with tensors using pytorch\n",
        "- Tensor is a type of data structure in pytorch\n",
        "- Tensors are similar to NumPy's ndarrays, except that tensors can run on GPUs or other hardware accelerators.\n",
        "- PyTorch tensors are also optimized for automatic differentiation (we’ll see more about that later in the Autograd section).\n",
        "- They contain float, integer or boolean data  "
      ],
      "metadata": {
        "id": "w-NqgNrFfhNc"
      }
    },
    {
      "cell_type": "markdown",
      "source": [
        "In a DL model, all data - inputs/outputs/weights are expressed as tensors\n",
        "-"
      ],
      "metadata": {
        "id": "kL8aBwlmiXz5"
      }
    },
    {
      "cell_type": "markdown",
      "source": [
        "## Tensor from list"
      ],
      "metadata": {
        "id": "5a9AWHDngxT1"
      }
    },
    {
      "cell_type": "code",
      "source": [
        "# creating a list of list\n",
        "x = [\n",
        "    [1, 2],\n",
        "    [3, 4]\n",
        "]"
      ],
      "metadata": {
        "id": "uapZOPXtfVyH"
      },
      "execution_count": 4,
      "outputs": []
    },
    {
      "cell_type": "code",
      "source": [
        "print(type(x))\n",
        "print(len(x))"
      ],
      "metadata": {
        "colab": {
          "base_uri": "https://localhost:8080/"
        },
        "id": "1iBAHca-gBz-",
        "outputId": "f647ef01-9949-4052-ddf4-474b8e19cb57"
      },
      "execution_count": 5,
      "outputs": [
        {
          "output_type": "stream",
          "name": "stdout",
          "text": [
            "<class 'list'>\n",
            "2\n"
          ]
        }
      ]
    },
    {
      "cell_type": "code",
      "source": [
        "# converting the list to a tensor\n",
        "x_T = torch.tensor(x)"
      ],
      "metadata": {
        "id": "2twyrcTIgDr9"
      },
      "execution_count": 6,
      "outputs": []
    },
    {
      "cell_type": "code",
      "source": [
        "x_T"
      ],
      "metadata": {
        "colab": {
          "base_uri": "https://localhost:8080/"
        },
        "id": "iRI2jgeMhJVs",
        "outputId": "483c49b0-b507-4d8f-bdfb-98d2f7909ff9"
      },
      "execution_count": 7,
      "outputs": [
        {
          "output_type": "execute_result",
          "data": {
            "text/plain": [
              "tensor([[1, 2],\n",
              "        [3, 4]])"
            ]
          },
          "metadata": {},
          "execution_count": 7
        }
      ]
    },
    {
      "cell_type": "code",
      "source": [
        "type(x_T)"
      ],
      "metadata": {
        "colab": {
          "base_uri": "https://localhost:8080/"
        },
        "id": "Zm93wk3rhKji",
        "outputId": "0457c794-de02-425e-9a89-173c5168e49e"
      },
      "execution_count": 8,
      "outputs": [
        {
          "output_type": "execute_result",
          "data": {
            "text/plain": [
              "torch.Tensor"
            ]
          },
          "metadata": {},
          "execution_count": 8
        }
      ]
    },
    {
      "cell_type": "markdown",
      "source": [
        "## Tensor from numpy array"
      ],
      "metadata": {
        "id": "ZxT3KuEGgy_Y"
      }
    },
    {
      "cell_type": "code",
      "source": [
        "numpy_array = np.array(x)"
      ],
      "metadata": {
        "id": "jkabFBijgkHg"
      },
      "execution_count": 9,
      "outputs": []
    },
    {
      "cell_type": "code",
      "source": [
        "numpy_array"
      ],
      "metadata": {
        "colab": {
          "base_uri": "https://localhost:8080/"
        },
        "id": "Jy8h41QKg3v4",
        "outputId": "c83b4dfc-054e-43a6-a93e-27446276f490"
      },
      "execution_count": 10,
      "outputs": [
        {
          "output_type": "execute_result",
          "data": {
            "text/plain": [
              "array([[1, 2],\n",
              "       [3, 4]])"
            ]
          },
          "metadata": {},
          "execution_count": 10
        }
      ]
    },
    {
      "cell_type": "code",
      "source": [
        "numpy_array.shape"
      ],
      "metadata": {
        "colab": {
          "base_uri": "https://localhost:8080/"
        },
        "id": "Y0kz_-43g77D",
        "outputId": "c4a0fb70-80a2-4cf6-c4e2-f124041b984b"
      },
      "execution_count": 11,
      "outputs": [
        {
          "output_type": "execute_result",
          "data": {
            "text/plain": [
              "(2, 2)"
            ]
          },
          "metadata": {},
          "execution_count": 11
        }
      ]
    },
    {
      "cell_type": "code",
      "source": [
        "na_T = torch.from_numpy(numpy_array)\n",
        "na_T"
      ],
      "metadata": {
        "colab": {
          "base_uri": "https://localhost:8080/"
        },
        "id": "pj_ozAxeg-1A",
        "outputId": "636b7215-6957-4fdd-9689-be23c4e8eb29"
      },
      "execution_count": 12,
      "outputs": [
        {
          "output_type": "execute_result",
          "data": {
            "text/plain": [
              "tensor([[1, 2],\n",
              "        [3, 4]])"
            ]
          },
          "metadata": {},
          "execution_count": 12
        }
      ]
    },
    {
      "cell_type": "code",
      "source": [
        "type(na_T)"
      ],
      "metadata": {
        "colab": {
          "base_uri": "https://localhost:8080/"
        },
        "id": "6azUHTWOhG9Y",
        "outputId": "b3eac3c8-6df2-4e07-f1ec-76b219ce16fb"
      },
      "execution_count": 13,
      "outputs": [
        {
          "output_type": "execute_result",
          "data": {
            "text/plain": [
              "torch.Tensor"
            ]
          },
          "metadata": {},
          "execution_count": 13
        }
      ]
    },
    {
      "cell_type": "code",
      "source": [
        "na_T.shape"
      ],
      "metadata": {
        "colab": {
          "base_uri": "https://localhost:8080/"
        },
        "id": "5sxJemmuq1lM",
        "outputId": "9db74afb-70f6-4ca6-9375-16b9e071dc08"
      },
      "execution_count": 14,
      "outputs": [
        {
          "output_type": "execute_result",
          "data": {
            "text/plain": [
              "torch.Size([2, 2])"
            ]
          },
          "metadata": {},
          "execution_count": 14
        }
      ]
    },
    {
      "cell_type": "code",
      "source": [
        "torch.tensor(\n",
        "    (\n",
        "        (3, 4, 6),\n",
        "        [7, 8, 9]\n",
        "    )\n",
        ")"
      ],
      "metadata": {
        "colab": {
          "base_uri": "https://localhost:8080/"
        },
        "id": "cBfp4fG1qnEy",
        "outputId": "ab16c79a-1867-48a1-a7be-a7c0776f9f72"
      },
      "execution_count": 15,
      "outputs": [
        {
          "output_type": "execute_result",
          "data": {
            "text/plain": [
              "tensor([[3, 4, 6],\n",
              "        [7, 8, 9]])"
            ]
          },
          "metadata": {},
          "execution_count": 15
        }
      ]
    },
    {
      "cell_type": "markdown",
      "source": [
        "torch.empty only allocates memory but does not initialize any values"
      ],
      "metadata": {
        "id": "oishtCrRoswR"
      }
    },
    {
      "cell_type": "code",
      "source": [
        "torch.empty(3, 4)"
      ],
      "metadata": {
        "colab": {
          "base_uri": "https://localhost:8080/"
        },
        "id": "Zx23M927hO9J",
        "outputId": "7aecfb00-583d-403e-8fd1-1e502af10c82"
      },
      "execution_count": 16,
      "outputs": [
        {
          "output_type": "execute_result",
          "data": {
            "text/plain": [
              "tensor([[0., 0., 0., 0.],\n",
              "        [0., 0., 0., 0.],\n",
              "        [0., 0., 0., 0.]])"
            ]
          },
          "metadata": {},
          "execution_count": 16
        }
      ]
    },
    {
      "cell_type": "code",
      "source": [
        "torch.empty(3, 4).shape"
      ],
      "metadata": {
        "colab": {
          "base_uri": "https://localhost:8080/"
        },
        "id": "IZ0p5GEJo1vh",
        "outputId": "65366bb9-25b7-4927-ae8b-68342b3ab654"
      },
      "execution_count": 17,
      "outputs": [
        {
          "output_type": "execute_result",
          "data": {
            "text/plain": [
              "torch.Size([3, 4])"
            ]
          },
          "metadata": {},
          "execution_count": 17
        }
      ]
    },
    {
      "cell_type": "code",
      "source": [
        "torch.empty(2, 2, 2, 3, 2)"
      ],
      "metadata": {
        "colab": {
          "base_uri": "https://localhost:8080/"
        },
        "id": "T61q63kboXko",
        "outputId": "96de805a-664c-4b09-ecd2-0a98c2692372"
      },
      "execution_count": 18,
      "outputs": [
        {
          "output_type": "execute_result",
          "data": {
            "text/plain": [
              "tensor([[[[[ 1.6479e-42,  0.0000e+00],\n",
              "           [ 1.4013e-45,  0.0000e+00],\n",
              "           [ 1.4013e-45,  7.0065e-45]],\n",
              "\n",
              "          [[ 2.9427e-44,  0.0000e+00],\n",
              "           [ 4.2161e+00,  3.3215e-41],\n",
              "           [-4.1531e-27,  4.4456e-41]]],\n",
              "\n",
              "\n",
              "         [[[ 1.4013e-45,  0.0000e+00],\n",
              "           [ 1.4013e-45,  0.0000e+00],\n",
              "           [ 1.4013e-45,  1.5414e-44]],\n",
              "\n",
              "          [[ 7.0065e-45,  0.0000e+00],\n",
              "           [ 4.2162e+00,  3.3215e-41],\n",
              "           [ 4.2162e+00,  3.3215e-41]]]],\n",
              "\n",
              "\n",
              "\n",
              "        [[[[ 4.2162e+00,  3.3215e-41],\n",
              "           [ 4.2162e+00,  3.3215e-41],\n",
              "           [ 4.2163e+00,  3.3215e-41]],\n",
              "\n",
              "          [[ 4.2163e+00,  3.3215e-41],\n",
              "           [ 2.8026e-44,  3.3215e-41],\n",
              "           [-4.5187e-27,  4.4456e-41]]],\n",
              "\n",
              "\n",
              "         [[[ 0.0000e+00,  0.0000e+00],\n",
              "           [ 1.4013e-45,  3.3215e-41],\n",
              "           [ 1.4013e-45,  1.6816e-44]],\n",
              "\n",
              "          [[ 1.4013e-45,  1.8217e-44],\n",
              "           [ 2.8026e-44,  2.2421e-44],\n",
              "           [-4.5187e-27,  4.4456e-41]]]]])"
            ]
          },
          "metadata": {},
          "execution_count": 18
        }
      ]
    },
    {
      "cell_type": "code",
      "source": [
        "torch.empty(2, 2, 2, 3, 2).shape"
      ],
      "metadata": {
        "colab": {
          "base_uri": "https://localhost:8080/"
        },
        "id": "A2fVhchNocQv",
        "outputId": "99df04d1-421b-4c8e-bde2-7a9b8489a9c1"
      },
      "execution_count": 19,
      "outputs": [
        {
          "output_type": "execute_result",
          "data": {
            "text/plain": [
              "torch.Size([2, 2, 2, 3, 2])"
            ]
          },
          "metadata": {},
          "execution_count": 19
        }
      ]
    },
    {
      "cell_type": "markdown",
      "source": [
        "The tensor has 5 dimensions (or axes).\n",
        "- So, the tensor can be visualized as having:\n",
        "- 2 \"blocks\", each containing:\n",
        "  - 2 matrices, each containing:\n",
        "    - 2 matrices, each of size:\n",
        "      - 3 rows, with:\n",
        "        - 2 columns."
      ],
      "metadata": {
        "id": "q-7O9ml7pQfB"
      }
    },
    {
      "cell_type": "markdown",
      "source": [
        "In total, this tensor contains 2×2×2×3×2=48 elements."
      ],
      "metadata": {
        "id": "O2hHF4-IpsHl"
      }
    },
    {
      "cell_type": "code",
      "source": [
        "torch.rand(2, 3)"
      ],
      "metadata": {
        "colab": {
          "base_uri": "https://localhost:8080/"
        },
        "id": "2ZSr2Y6ao8wr",
        "outputId": "d3e1506e-47a4-48c1-8eef-b3b554108c59"
      },
      "execution_count": 20,
      "outputs": [
        {
          "output_type": "execute_result",
          "data": {
            "text/plain": [
              "tensor([[0.9518, 0.0857, 0.9287],\n",
              "        [0.2895, 0.9023, 0.1363]])"
            ]
          },
          "metadata": {},
          "execution_count": 20
        }
      ]
    },
    {
      "cell_type": "code",
      "source": [
        "torch.manual_seed(1234) # everytime same value\n",
        "torch.rand(2, 3)"
      ],
      "metadata": {
        "colab": {
          "base_uri": "https://localhost:8080/"
        },
        "id": "YE39lFdVp65y",
        "outputId": "63109e3f-7c3d-4fc6-f1c6-e85f17e3dcfb"
      },
      "execution_count": 21,
      "outputs": [
        {
          "output_type": "execute_result",
          "data": {
            "text/plain": [
              "tensor([[0.0290, 0.4019, 0.2598],\n",
              "        [0.3666, 0.0583, 0.7006]])"
            ]
          },
          "metadata": {},
          "execution_count": 21
        }
      ]
    },
    {
      "cell_type": "code",
      "source": [
        "Y = torch.empty(3, 4)"
      ],
      "metadata": {
        "id": "i4XTJewlp8c5"
      },
      "execution_count": 22,
      "outputs": []
    },
    {
      "cell_type": "code",
      "source": [
        "torch.rand_like(Y)"
      ],
      "metadata": {
        "colab": {
          "base_uri": "https://localhost:8080/"
        },
        "id": "8aoMlVUOqPVr",
        "outputId": "01ab120d-567d-4fab-9739-a8c52106240a"
      },
      "execution_count": 23,
      "outputs": [
        {
          "output_type": "execute_result",
          "data": {
            "text/plain": [
              "tensor([[0.0518, 0.4681, 0.6738, 0.3315],\n",
              "        [0.7837, 0.5631, 0.7749, 0.8208],\n",
              "        [0.2793, 0.6817, 0.2837, 0.6567]])"
            ]
          },
          "metadata": {},
          "execution_count": 23
        }
      ]
    },
    {
      "cell_type": "markdown",
      "source": [
        "## Tensor data types"
      ],
      "metadata": {
        "id": "9_3C52sarNhy"
      }
    },
    {
      "cell_type": "markdown",
      "source": [
        "- By default tensor has datayoe of `float32` populated i.e. 32-bit floating point.\n",
        "- Data types are very important as they help in determining the compute required to train the model."
      ],
      "metadata": {
        "id": "x7FHzMLCsFet"
      }
    },
    {
      "cell_type": "markdown",
      "source": [
        "![image.png](data:image/png;base64,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)"
      ],
      "metadata": {
        "id": "TLtwUrXZtFZb"
      }
    },
    {
      "cell_type": "code",
      "source": [
        "torch.ones(2, 4)"
      ],
      "metadata": {
        "colab": {
          "base_uri": "https://localhost:8080/"
        },
        "id": "8IPiwTg7qSO6",
        "outputId": "595c2599-bf09-4969-8620-2656bb118788"
      },
      "execution_count": 24,
      "outputs": [
        {
          "output_type": "execute_result",
          "data": {
            "text/plain": [
              "tensor([[1., 1., 1., 1.],\n",
              "        [1., 1., 1., 1.]])"
            ]
          },
          "metadata": {},
          "execution_count": 24
        }
      ]
    },
    {
      "cell_type": "code",
      "source": [
        "torch.ones(2, 4).dtype"
      ],
      "metadata": {
        "colab": {
          "base_uri": "https://localhost:8080/"
        },
        "id": "4Bn5EXxitXsW",
        "outputId": "866189b6-e915-407f-d224-7e726978fa6c"
      },
      "execution_count": 25,
      "outputs": [
        {
          "output_type": "execute_result",
          "data": {
            "text/plain": [
              "torch.float32"
            ]
          },
          "metadata": {},
          "execution_count": 25
        }
      ]
    },
    {
      "cell_type": "code",
      "source": [
        "torch.ones((2, 4), dtype= torch.float64)"
      ],
      "metadata": {
        "colab": {
          "base_uri": "https://localhost:8080/"
        },
        "id": "XxM3qGbkta9h",
        "outputId": "2c62a57a-9f5e-4629-8619-fd9a56fc67f6"
      },
      "execution_count": 26,
      "outputs": [
        {
          "output_type": "execute_result",
          "data": {
            "text/plain": [
              "tensor([[1., 1., 1., 1.],\n",
              "        [1., 1., 1., 1.]], dtype=torch.float64)"
            ]
          },
          "metadata": {},
          "execution_count": 26
        }
      ]
    },
    {
      "cell_type": "markdown",
      "source": [
        "changing data type"
      ],
      "metadata": {
        "id": "o4oK5PmDtnmQ"
      }
    },
    {
      "cell_type": "code",
      "source": [
        "b = torch.ones((2, 4), dtype= torch.float64)\n",
        "\n",
        "c = b.to(torch.int8)"
      ],
      "metadata": {
        "id": "wxinEe27tlV_"
      },
      "execution_count": 27,
      "outputs": []
    },
    {
      "cell_type": "code",
      "source": [
        "c"
      ],
      "metadata": {
        "colab": {
          "base_uri": "https://localhost:8080/"
        },
        "id": "3E1lohaWtwDG",
        "outputId": "012978a3-fdf8-4769-ed7a-cf13e4290cca"
      },
      "execution_count": 28,
      "outputs": [
        {
          "output_type": "execute_result",
          "data": {
            "text/plain": [
              "tensor([[1, 1, 1, 1],\n",
              "        [1, 1, 1, 1]], dtype=torch.int8)"
            ]
          },
          "metadata": {},
          "execution_count": 28
        }
      ]
    },
    {
      "cell_type": "markdown",
      "source": [
        "## Tensor operations"
      ],
      "metadata": {
        "id": "Abe4AFCLt_Bz"
      }
    },
    {
      "cell_type": "code",
      "source": [
        "ones = torch.zeros(2, 2) + 1\n",
        "twos = torch.ones(2, 2) * 2\n",
        "square = twos ** 2\n",
        "sqrt2s = twos ** 0.5\n",
        "\n",
        "print(\"Before adding + 1\")\n",
        "print(torch.zeros(2, 2))\n",
        "print(\"After adding + 1\")\n",
        "print(ones)\n",
        "print(\"xxxxxxxxxxxxxxxxxxxxxxxxxxxxx\")\n",
        "print(\"xxxxxxxxxxxxxxxxxxxxxxxxxxxxx\")\n",
        "print(\"Before multiplying 2\")\n",
        "print(torch.ones(2, 2))\n",
        "print(\"After multiplying 2\")\n",
        "print(twos)\n",
        "print(\"xxxxxxxxxxxxxxxxxxxxxxxxxxxxx\")\n",
        "print(\"xxxxxxxxxxxxxxxxxxxxxxxxxxxxx\")\n",
        "print(\"Before square\")\n",
        "print(twos)\n",
        "print(\"After square\")\n",
        "print(square)\n",
        "print(\"xxxxxxxxxxxxxxxxxxxxxxxxxxxxx\")\n",
        "print(\"xxxxxxxxxxxxxxxxxxxxxxxxxxxxx\")\n",
        "print(\"Before square root\")\n",
        "print(twos)\n",
        "print(\"After square root\")\n",
        "print(sqrt2s)"
      ],
      "metadata": {
        "colab": {
          "base_uri": "https://localhost:8080/"
        },
        "id": "odave7qKtwo7",
        "outputId": "f60e0fa8-68a5-494e-df4b-c4f00f2168fa"
      },
      "execution_count": 29,
      "outputs": [
        {
          "output_type": "stream",
          "name": "stdout",
          "text": [
            "Before adding + 1\n",
            "tensor([[0., 0.],\n",
            "        [0., 0.]])\n",
            "After adding + 1\n",
            "tensor([[1., 1.],\n",
            "        [1., 1.]])\n",
            "xxxxxxxxxxxxxxxxxxxxxxxxxxxxx\n",
            "xxxxxxxxxxxxxxxxxxxxxxxxxxxxx\n",
            "Before multiplying 2\n",
            "tensor([[1., 1.],\n",
            "        [1., 1.]])\n",
            "After multiplying 2\n",
            "tensor([[2., 2.],\n",
            "        [2., 2.]])\n",
            "xxxxxxxxxxxxxxxxxxxxxxxxxxxxx\n",
            "xxxxxxxxxxxxxxxxxxxxxxxxxxxxx\n",
            "Before square\n",
            "tensor([[2., 2.],\n",
            "        [2., 2.]])\n",
            "After square\n",
            "tensor([[4., 4.],\n",
            "        [4., 4.]])\n",
            "xxxxxxxxxxxxxxxxxxxxxxxxxxxxx\n",
            "xxxxxxxxxxxxxxxxxxxxxxxxxxxxx\n",
            "Before square root\n",
            "tensor([[2., 2.],\n",
            "        [2., 2.]])\n",
            "After square root\n",
            "tensor([[1.4142, 1.4142],\n",
            "        [1.4142, 1.4142]])\n"
          ]
        }
      ]
    },
    {
      "cell_type": "markdown",
      "source": [
        "## Tensor Broadcasting"
      ],
      "metadata": {
        "id": "qE5oLUWFy6OV"
      }
    },
    {
      "cell_type": "markdown",
      "source": [
        "Tensor broadcasting is a technique in deep learning frameworks like PyTorch that automatically expands the shapes of tensors during arithmetic operations, without explicitly copying data."
      ],
      "metadata": {
        "id": "ehJSgXI3y8oR"
      }
    },
    {
      "cell_type": "markdown",
      "source": [
        "Broadcasting is a way to perform an operation between tensors that have similarities in their shapes. In the example above, the one-row, four-column tensor is multiplied by both rows of the two-row, four-column tensor."
      ],
      "metadata": {
        "id": "eqfjjB05z4Gl"
      }
    },
    {
      "cell_type": "markdown",
      "source": [
        "![image.png](data:image/png;base64,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)"
      ],
      "metadata": {
        "id": "Fvbo42JOzP8m"
      }
    },
    {
      "cell_type": "code",
      "source": [
        "a = torch.tensor([[1, 2, 3], [4, 5, 6]])  # Shape: (2, 3)\n",
        "b = torch.tensor([10, 20, 30])            # Shape: (3)\n",
        "\n",
        "# Broadcasting occurs to add 'b' to each row of 'a'\n",
        "result = a + b\n",
        "\n",
        "print(a)\n",
        "print(b)\n",
        "print(\"xxxxxxxxxxxxxxxxx\")\n",
        "print(\"Result\")\n",
        "print(result)"
      ],
      "metadata": {
        "colab": {
          "base_uri": "https://localhost:8080/"
        },
        "id": "1HXRaQOIuAoP",
        "outputId": "49e7abe9-054e-44ac-98ff-d01dbd87241e"
      },
      "execution_count": 31,
      "outputs": [
        {
          "output_type": "stream",
          "name": "stdout",
          "text": [
            "tensor([[1, 2, 3],\n",
            "        [4, 5, 6]])\n",
            "tensor([10, 20, 30])\n",
            "xxxxxxxxxxxxxxxxx\n",
            "Result\n",
            "tensor([[11, 22, 33],\n",
            "        [14, 25, 36]])\n"
          ]
        }
      ]
    },
    {
      "cell_type": "markdown",
      "source": [
        "- Tensor a has shape (2, 3), meaning it has 2 rows and 3 columns.\n",
        "- Tensor b has shape (3), meaning it has 1 row with 3 elements."
      ],
      "metadata": {
        "id": "E0R0x-m7RBxJ"
      }
    },
    {
      "cell_type": "markdown",
      "source": [
        "![image.png](data:image/png;base64,iVBORw0KGgoAAAANSUhEUgAAAKsAAAA9CAYAAADS15lHAAAABHNCSVQICAgIfAhkiAAAABl0RVh0U29mdHdhcmUAZ25vbWUtc2NyZWVuc2hvdO8Dvz4AAAAtdEVYdENyZWF0aW9uIFRpbWUARnJpIDEzIFNlcCAyMDI0IDA1OjA0OjIwIFBNICswNeZ0MOcAAAzjSURBVHic7Zx7dBRVnsc/t6qrujvdIYE8UFGICEFUZIkcmVl5BQQVdRBFZcfF2QXHmdmz4+6oZ/e4c2Zm56yzro6u7uAMZ1edcc/wGuQxruyiQOS1gAwsSeQ1aICYII+EhFc6XdX1uPtHB0lCQrpJOpzi1OecnJOuql/1t6q+de+v695fiezsbImPjwdQrrQAH59U8c3q4xl8s/p4Bt+sPp7BN6uPZ/DN6uMZfLP6eAbfrD6ewTerj2fwzerjGQJpbT10IrG/uRXZZIJ7nOCr/43W2DJaK7KwnpmDMchAJCRix0dElh9pEy5vu5vm7+gEn/0fAlZ6QjuNzR2E+efjsQZHwDxDYHUZwU11iPR2fzEiiDN5EuaUItyQRHx5EH3xBrTaFIR3FZsxzWGcqaUYkwYhQxJx9BD64vVoNamcbAU54msYD9+G0y8A506gvf8xwR2nkqvVHOyZd2OOLkAKE2XnVkLLDqDYyVhnxiziY7JADyFrNxN9oxLRwwP56ZkVoL6C8ItbUJ2OVroElvwn4T+0OzmhbJyS0ZgPFiOp7ni/IopzexTl0+NtD/JSsSILa9ZU7BMfEplfi+h3K/Fn7yFRu4jg4Q4Fpoy8eSzG3Sr6G2+jHVdwpk0n/mQJ6kvbUdzzWym4xYPgy8MosRRjZQY1jxxPfJxD6NW3CJxUcKY9RHx2aprpewvGt4pQfr2I8L5m5PBxNH+nFOXgSrRGcCdOxbj+C8I/XoHqFpD4q+kYpXVkrT0FuKgrFxFdCfLOB4nd1a3D6JTMpwFKPonvTse8xUBfuLPVSWuHmo81cwSOmkZs1kDs4gb0NbUIB6j/I3pFALukoPu640fRlmxBO2aBNFEraxB5fXFb60PDmXwXVoGSemwmNZ+rJbhoK4F6G2QC9dMaRG4f3DbyOtEszhJYsRF9fxPgIj4/hBqP4vYRIPpgl/RDXV+OGpdg1qFtOIJbMrjdvjNL+i1rurgn0d9YgA6QN4pET8bm9cU1T7dqIVyUurPI4blIjnerWxXV+5PfC4CKO6IIWbOvpdvrRuy1GdR8cB/a+Q/ZhVh3F0Plpk56wXY01qBtbflfj+KMHYUTO0joqAtqDm5eE0r9hR2Jk6eSN6BC5w1QD5N5s14SBeeBx4hP6AOoyIiK/dKNgIuy8b/IWlV36XBNB8sGdTDGq/fjrl5I+JwDugYC6JGcSUH+yUTipTb6L/ahSGB4KbG/HIoUQDgEQ5/CcoCa7WS9WZncprPYjGtWsZ/6HvHRKqK6nND8L5JpVYqa5fiHaXpiIJyuIfjWTtQEoAVAdxCJENb352LwMdGlNuK85l7iCpvVRV21hOgqIFCE8ZOhBH66lkAKrRcAVgK0MMizqFv2oNSayMIAmFYPGTWAe9dU4g+E0OZ/gH6kRdj+9UT+bj0QxPreo7irFxGsbt+8dBKbcc0OgbffJHthDs6EUowfjEP88ybUlDSD2LSC7G0h3FtGYzw1A365FP2YDaaK1G3U3XvQaYRgEbLHNKeGtx9d1TeiBHNxs06ivbcefZ+JvC4HcayxB254FXfcNOL3uOivv49+2OyZ2IxpVnBHlmANDSc/xs+grqtAjRZhX9v1ZZY3DCMxpjDpPctAqdyBVpuHPSwKzimUk1HcQom6YT3BDcegfz9kfQNK934TpoW3zWrUoO3rS2LKQKQKcsBtJG6Po+08eWGb8DDi//Z9Yg+m+QOm6E6M+1X0eWvQ6tK8IpeKzZhmCQVDMB+/EztXBRHAHTUMR2lEaew6qRRqPtbjE7AGhwCBHHAz9iAD5WgzyCYCu+pxSktwwgIi15KYdB3qjqpWKU8XDJ9E06/mYA67/M4882mAyCHxzGMkBiVPoAwKjJe/C04D+uvL0I+2HK1dTehH1WnGxgksXYv75ERir0Wh+SSBFavRj7S6OEXX4ziHCW6sT0O0ij12BE62hvvC03zVLtonCL78e7SG81fIRJu/IM3YTGmWKBs+IpQ7CfOHT2PoQMOXaL9Zj3au9XYdaQaqtxNePgFjzrdIRFWIn0Yt+5Dg/mT6omxaRyh/CsY/lSBpRt1aRmjzuYv30yEKTvEAOFyO9nmqOd7FiLRqsIZOJPZNi1BHz1lFFtYzf4G97a2Ln7NeMRScGU9gBMqIvHf0SotJES9qvkDyOWsNkdaDAiKHxHMzcdcuIFSZTjrVFm+nAV0h+uAMakIvO3allaSOFzV3RWQAjrIXfc/lGxUup2XtxnCrz9VK7wy3pmdWH58ryNWdBvhcVfhm9fEMvll9PINvVh/P4JvVxzP4ZvXxDL5ZfTyDb1Yfz9AzE1m0IRiv3YdtxMF1CPxuAaHydvMDAvkknp+FGd9I9Be70xjdCCRHR4p2tx1vBuRNJRizRuHkaXCqFn1xGXqV0c2DEbhTHiM2PQ+ROD+5xEFdtZTwx2e6DtfzsR6fTKIkHykNlH3lBBfvQo1lUjOAinvHOIwZxbgREIc+JfTuJ6ipzDUJFmLNKiUxMh8pTMT+CkKLdqI2tay/VIGjkkfimYdIXCMgEkasWULkg1YTcEZOJvZnNyIVDRn+gvBlFIuep+dmXTkn0F9+D72hIxcquBPHY2XFEfEOVkcKsQcYBD4722qhQOYW4Ewcizk+B1nTLiY4CHPu7YhlS4nuiiFHTqJ57liUn64j0K1rL5BZGsrGlUTeu8T4fIcFjgrOvfdiFhwg/MOlqHZfrKdnYjxQR+R3RzKoGRhwB8Yj2Wjzfo1WF8T+5kOYEw+R9UGraosONas437gPM1pB1j9Uorj9WjQfJ7LkSNdFmW4D+hvvoKNiz57DRaP/lWVEKoG8UTT/+NpuHWLvpAEFIzBL6gh+fLKT9cWYkwe0nXTe91aMv52EFThA6P3aiycmDxmKHduPXnEOcBG7y9GabsQe2gP3X1hHxLqoFuuowBEF8eVegsvKUZslJE4R2NOA7J+bLCfJmGYF5+vDkVs/QTtmgxMj8NuFbY3amWahIKorCS3fjWKQ1Ly3AZmfnbwemSxwTJNemM/aB+vRm1FWrkDNn5Z63Kk9hP9xDwDyzsHtd4pbmAv1NYjzPbV7BqVew+6fBbvPcvkIZCSIvGEszXddgxu2UfbuIrik/KuuvHNslP8rv9ACiCj2iHzEoU0ImUHNIgv3+hBK1XUYz92Lkx9AHNpNcHGrrrwzpIWyoyKpWSjI/oNJ/GkOatmRZAORwaLMdMmwWQVyzDisxm2EqyzIb70qB+uvZ2IOVEHVkbpL7OfjQJpov1lAcH8Xs/ODGlgW3DSe2LM3EfjXBaiWk1zeTc3iSDVqwyH0NatQRB6JOdOJP3aWyLuHce9PscBRhHAeuh+zzx7C6+oBkTnNQkdGNJwROYT+fTGhpijWkw8Tf/RU6prV6zFffIREXwtlaxnhnS3Jbq8UZaZGZs2aU4w5wUCfV4OQ7Y5LnkGb906ydLhoLLH7Gsiavz/lO1WYFmganDlGYLOFekaAroLR3YnfNupHq7nQU9ahr/4M66kiXPVgagWOajb2rG9g3FBD6M2tqEaGNUsHLImyfReBRhs4jVb2OYlvD8RVUtTsHCH4wjz0fv2xH76H+GyHrHerEBkvcEydjOassngwdsGNmD+aS+ylucRm3oAcchfNz41pl+ulvWfEiVNQ0A/Z+DnBJdsInMrFKUygHOuyr740Iog7fCButNUyVQHppnZxRDb27BmYffeS9fpmAmfOB2VQs4yhnEhAJNhKhwCZgmCRjVM6ErufAFxE4zG0dVUwvCh5jTJalJkeGTWr2LGa6PNvE3nhneTfslpE1RayXtue2osXLkXVZwTCN5MYlZ0sjht9B7ZehVbVaseXVaSm4UyeRvyRYlwdCBeSmDoEdh9MoZJTJF+zc80Bwv9RgdL+p3HGNNuof6hCjh2D1T8Aei7WpCFwoDoFzS7u8K9hTm853kAUe8wgZF1L5WoqBY69xBV+b0AL1f9LZH67ZVnDiP+kFEcDAhoyMJDYa1+H03sJ/2wzaqKW4DuVGE88TtNsDeoPE3xrS/KlDMBlF6nJJrSFH+I+MY7mn0+BRBNKxTbCy2vatiQdFTiqBVgTBiDzCmn+l1EXltdXEH7lk8xpBsQftxBaOwnzB9/GDNmI/eWElld3rVnG0BatRs4aS/PLk0HYiOrPCP52d0vlagoFjr1Ez1QKaEMwXilBebGz56xXgB4qUutVvKj5K1qes57+fdtBgfO0PGfVn7/8QYGrd7i1h4rUehUvau5Fei4NUPuT+Pu5JDobbu1tmvYRfuXKSkgbL2puM9waQqxpt771cKvyRbe+yi8Y9PEMV28a4HPV4ZvVxzP4ZvXxDL5ZfTyDb1Yfz+Cb1ccz+Gb18Qy+WX08g29WH8/gm9XHM/hm9fEMvll9PINvVh/P4JvVxzP4ZvXxDL5ZfTzD/wOx36Nb/eu/4AAAAABJRU5ErkJggg==)"
      ],
      "metadata": {
        "id": "ZMLoJkjbRNWx"
      }
    },
    {
      "cell_type": "markdown",
      "source": [
        "In this example, b is broadcast across each row of a. Since b has shape (3) and a has shape (2, 3), the system automatically \"stretches\" b to shape (2, 3) by replicating it along the first dimension.\n"
      ],
      "metadata": {
        "id": "lHOWHzoczd-t"
      }
    },
    {
      "cell_type": "markdown",
      "source": [
        "- PyTorch has almost 300 mathematical operations."
      ],
      "metadata": {
        "id": "6e_oA1g3SMae"
      }
    },
    {
      "cell_type": "code",
      "source": [],
      "metadata": {
        "id": "KjwNjuB7zbNi"
      },
      "execution_count": 30,
      "outputs": []
    }
  ]
}